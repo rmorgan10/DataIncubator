{
 "cells": [
  {
   "cell_type": "code",
   "execution_count": 1,
   "metadata": {},
   "outputs": [],
   "source": [
    "import matplotlib.pyplot as plt\n",
    "import numpy as np\n",
    "import pandas as pd\n",
    "from scipy.stats import pearsonr"
   ]
  },
  {
   "cell_type": "code",
   "execution_count": 2,
   "metadata": {},
   "outputs": [],
   "source": [
    "data_2017 = pd.read_csv('PartD_Prescriber_PUF_NPI_17/PartD_Prescriber_PUF_NPI_17.txt', delimiter='\\t')"
   ]
  },
  {
   "cell_type": "markdown",
   "metadata": {},
   "source": [
    "Note: data has 84 columns while the documentation lists 89, but numbers 64-68 are missing in the documentation."
   ]
  },
  {
   "cell_type": "markdown",
   "metadata": {},
   "source": [
    "### Question 1\n",
    "\n",
    "**In 2017, what was the average number of beneficiaries per provider? Due to the suppression of data for those with few beneficiaries, we can only include those with more than 10 beneficiaries.**\n",
    "\n",
    "The `bene_count` column contains information on the number of beneficiaries per provider. Therefore, we can inspect the values to find the average number of beneficiaries per provider."
   ]
  },
  {
   "cell_type": "code",
   "execution_count": 3,
   "metadata": {},
   "outputs": [],
   "source": [
    "bene_count_data = data_2017['bene_count'].values[~np.isnan(data_2017['bene_count'].values)]"
   ]
  },
  {
   "cell_type": "markdown",
   "metadata": {},
   "source": [
    "By dropping the nan values, we are only counting the providers with more than 10 beneficiaries. This is verified by checking the minimum value in the array:"
   ]
  },
  {
   "cell_type": "code",
   "execution_count": 4,
   "metadata": {},
   "outputs": [
    {
     "name": "stdout",
     "output_type": "stream",
     "text": [
      "11.0\n"
     ]
    }
   ],
   "source": [
    "print(bene_count_data.min())"
   ]
  },
  {
   "cell_type": "code",
   "execution_count": 5,
   "metadata": {},
   "outputs": [
    {
     "name": "stdout",
     "output_type": "stream",
     "text": [
      "158.3494585173676\n"
     ]
    }
   ],
   "source": [
    "print(bene_count_data.sum() / len(bene_count_data))"
   ]
  },
  {
   "cell_type": "markdown",
   "metadata": {},
   "source": [
    "## Question 2\n",
    "\n",
    "**For each provider, estimate the length of the average prescription from the total_day_supply and total_claim_count. What is the median, in days, of the distribution of this value across all providers?**"
   ]
  },
  {
   "cell_type": "code",
   "execution_count": 6,
   "metadata": {},
   "outputs": [
    {
     "name": "stdout",
     "output_type": "stream",
     "text": [
      "29.7125748502994\n"
     ]
    }
   ],
   "source": [
    "average_perscription_data = data_2017['total_day_supply'].values / data_2017['total_claim_count'].values\n",
    "print(np.median(average_perscription_data))"
   ]
  },
  {
   "cell_type": "markdown",
   "metadata": {},
   "source": [
    "Note: the median of this distribution is in units of days per claim."
   ]
  },
  {
   "cell_type": "markdown",
   "metadata": {},
   "source": [
    "## Question 3\n",
    "\n",
    "**Work out for each Specialty the fraction of drug claims that are for brand-name drugs. Include only providers for whom the relevant information has not been suppressed, and consider only specialties with at least 1000 total claims. What is the standard deviation of these fractions?**"
   ]
  },
  {
   "cell_type": "code",
   "execution_count": 7,
   "metadata": {},
   "outputs": [
    {
     "name": "stdout",
     "output_type": "stream",
     "text": [
      "0.09623249018445316\n"
     ]
    }
   ],
   "source": [
    "specialties = np.unique(data_2017['specialty_description'].values)\n",
    "fractions = []\n",
    "for specialty in specialties:\n",
    "    specialty_data = data_2017[data_2017['specialty_description'].values == specialty].copy()\n",
    "    \n",
    "    # Only include providers for whom the relevant information has not been suppressed\n",
    "    specialty_data = specialty_data[(specialty_data['brand_suppress_flag'].values != '#') &\n",
    "                                    (specialty_data['brand_suppress_flag'].values != '*')].copy()\n",
    "        \n",
    "    # Only consider specialties with at least 1000 total claims\n",
    "    total_claims = specialty_data['total_claim_count'].values.sum()\n",
    "    if total_claims < 1000:\n",
    "        continue\n",
    "    \n",
    "    brand_name_claims = specialty_data['brand_claim_count'].values.sum()\n",
    "    fractions.append(brand_name_claims / total_claims)\n",
    "    \n",
    "print(np.std(fractions))\n",
    "    "
   ]
  },
  {
   "cell_type": "markdown",
   "metadata": {},
   "source": [
    "## Question 4\n",
    "\n",
    "**Find the ratio of beneficiaries with opioid prescriptions to beneficiaries with antibiotics prescriptions in each state. Assume that each beneficiary attends only a single provider. What is the difference between the largest and smallest ratios?**"
   ]
  },
  {
   "cell_type": "code",
   "execution_count": 8,
   "metadata": {},
   "outputs": [
    {
     "name": "stdout",
     "output_type": "stream",
     "text": [
      "0.4463537244308209\n"
     ]
    }
   ],
   "source": [
    "state_dict = {}\n",
    "unique_states = np.unique(data_2017['nppes_provider_state'].values)\n",
    "\n",
    "state_values_to_exclude = [\"XX\", \"AA\", \"AE\", \"AP\", \"AS\", \n",
    "                           \"GU\", \"MP\", \"PR\", \"VI\", \"ZZ\"]\n",
    "\n",
    "for state in unique_states:\n",
    "    \n",
    "    if state in state_values_to_exclude: continue\n",
    "        \n",
    "    state_data = data_2017[data_2017['nppes_provider_state'].values == state].copy()\n",
    "    \n",
    "    num_opiod = state_data['opioid_bene_count'].values[~np.isnan(state_data['opioid_bene_count'].values)].sum()\n",
    "    num_antiboitic = state_data['antibiotic_bene_count'].values[~np.isnan(state_data['antibiotic_bene_count'].values)].sum()\n",
    "    \n",
    "    state_dict[state] = num_opiod / num_antiboitic\n",
    "    \n",
    "print(np.max(list(state_dict.values())) - np.min(list(state_dict.values())))"
   ]
  },
  {
   "cell_type": "markdown",
   "metadata": {},
   "source": [
    "## Question 5\n",
    "\n",
    "**For each provider where the relevant columns are not suppressed, work out the fraction of claims for beneficiaries age 65 and older, as well as the fraction of claims for beneficiaries with a low-income subsidy. What is the Pearson correlation coefficient between these values?**"
   ]
  },
  {
   "cell_type": "code",
   "execution_count": 9,
   "metadata": {},
   "outputs": [
    {
     "name": "stdout",
     "output_type": "stream",
     "text": [
      "-0.6389319595676893\n"
     ]
    }
   ],
   "source": [
    "#Get data where 65+ and low-income are both not suppressed\n",
    "data = data_2017[(data_2017['ge65_suppress_flag'].values != '*') &\n",
    "                 (data_2017['ge65_suppress_flag'].values != '#') &\n",
    "                 (data_2017['lis_suppress_flag'].values != '*') &\n",
    "                 (data_2017['lis_suppress_flag'].values != '#')].copy()\n",
    "\n",
    "ge65_fractions = data['total_claim_count_ge65'].values / data['total_claim_count'].values\n",
    "lis_fractions = data['lis_claim_count'].values / data['total_claim_count'].values\n",
    "\n",
    "print(pearsonr(ge65_fractions, lis_fractions)[0])"
   ]
  },
  {
   "cell_type": "markdown",
   "metadata": {},
   "source": [
    "## Question 6\n",
    "\n",
    "**Let's find which states have surprisingly high supply of opioids, conditioned on specialty. Work out the average length of an opioid prescription for each provider. For each (state, specialty) pair with at least 100 providers, calculate the average of this value across all providers. Then find the ratio of this value to an equivalent quantity calculated from providers in each specialty across all states. What is the largest such ratio?**"
   ]
  },
  {
   "cell_type": "code",
   "execution_count": 10,
   "metadata": {},
   "outputs": [],
   "source": [
    "state_values_to_exclude = [\"XX\", \"AA\", \"AE\", \"AP\", \"AS\", \n",
    "                           \"GU\", \"MP\", \"PR\", \"VI\", \"ZZ\"]\n",
    "\n",
    "# Group by specialty and state\n",
    "grouped_data_2017 = list(data_2017.groupby(['specialty_description', 'nppes_provider_state']))\n",
    "grouped_data_2017 = [x for x in grouped_data_2017 if x[0][1] not in state_values_to_exclude]\n",
    "\n",
    "# Require at least 100 providers in the pair for it to count\n",
    "grouped_data_2017 = [x for x in grouped_data_2017 if x[1].shape[0] >= 100]\n",
    "\n"
   ]
  },
  {
   "cell_type": "code",
   "execution_count": 11,
   "metadata": {},
   "outputs": [],
   "source": [
    "specialty_dict = {}\n",
    "for (specialty, state), data in grouped_data_2017:\n",
    "    \n",
    "    opioid_perscription_data = data['opioid_day_supply'].values\n",
    "    opioid_perscription_data = opioid_perscription_data[~np.isnan(opioid_perscription_data)]\n",
    "    \n",
    "    if specialty in specialty_dict.keys():\n",
    "        specialty_dict[specialty]['SUPPLY'] += [opioid_perscription_data.sum()]\n",
    "        specialty_dict[specialty]['NUM'] += [len(opioid_perscription_data)]\n",
    "    else:\n",
    "        specialty_dict[specialty] = {}\n",
    "        specialty_dict[specialty]['SUPPLY'] = [opioid_perscription_data.sum()]\n",
    "        specialty_dict[specialty]['NUM'] = [len(opioid_perscription_data)]"
   ]
  },
  {
   "cell_type": "code",
   "execution_count": 12,
   "metadata": {},
   "outputs": [],
   "source": [
    "state_specialty_averages = {k: [x / y for x, y in zip(v['SUPPLY'], v['NUM'])] for k, v in specialty_dict.items()}\n",
    "all_state_averages = {k: np.sum(v['SUPPLY']) / np.sum(v['NUM']) for k, v in specialty_dict.items()}\n",
    "\n",
    "largest_ratio = 0.0\n",
    "for specialty in all_state_averages.keys():\n",
    "    new_ratio = np.max(state_specialty_averages[specialty]) / all_state_averages[specialty]\n",
    "    if new_ratio > largest_ratio:\n",
    "        largest_ratio = new_ratio"
   ]
  },
  {
   "cell_type": "code",
   "execution_count": 13,
   "metadata": {},
   "outputs": [
    {
     "data": {
      "text/plain": [
       "55.210840081536624"
      ]
     },
     "execution_count": 13,
     "metadata": {},
     "output_type": "execute_result"
    }
   ],
   "source": [
    "largest_ratio"
   ]
  },
  {
   "cell_type": "markdown",
   "metadata": {},
   "source": [
    "## Question 7\n",
    "\n",
    "**For each provider for whom the information is not suppressed, figure out the average cost per day of prescriptions in both 2016 and 2017. Use this to estimate the inflation rate for daily prescription costs per provider. What is the average inflation rate across all providers?**"
   ]
  },
  {
   "cell_type": "code",
   "execution_count": 14,
   "metadata": {},
   "outputs": [],
   "source": [
    "data_2016 = pd.read_csv('PartD_Prescriber_PUF_NPI_16/PartD_Prescriber_PUF_NPI_16.txt', delimiter='\\t')"
   ]
  },
  {
   "cell_type": "code",
   "execution_count": 15,
   "metadata": {},
   "outputs": [],
   "source": [
    "data_2016['cost_per_day_2016'] = data_2016['total_drug_cost'].values / data_2016['total_day_supply'].values\n",
    "data_2017['cost_per_day_2017'] = data_2017['total_drug_cost'].values / data_2017['total_day_supply'].values"
   ]
  },
  {
   "cell_type": "code",
   "execution_count": 16,
   "metadata": {},
   "outputs": [],
   "source": [
    "merged_data = data_2016.merge(data_2017, on='npi')"
   ]
  },
  {
   "cell_type": "code",
   "execution_count": 17,
   "metadata": {},
   "outputs": [],
   "source": [
    "cost_changes = merged_data['cost_per_day_2017'].values - merged_data['cost_per_day_2016'].values"
   ]
  },
  {
   "cell_type": "code",
   "execution_count": 18,
   "metadata": {},
   "outputs": [],
   "source": [
    "cost_changes = cost_changes[~np.isnan(cost_changes)]"
   ]
  },
  {
   "cell_type": "code",
   "execution_count": 19,
   "metadata": {},
   "outputs": [
    {
     "name": "stdout",
     "output_type": "stream",
     "text": [
      "0.00016462526594343763\n"
     ]
    }
   ],
   "source": [
    "print(np.mean(cost_changes) / 365)"
   ]
  },
  {
   "cell_type": "markdown",
   "metadata": {},
   "source": [
    "## Question 8\n",
    "\n",
    "**Consider all providers with a defined specialty in both years. Find the fraction of providers who left each specialty between 2016 and 2017. What is the largest such fraction, when considering specialties with at least 1000 proviers in 2016? Note that some specialties have a fraction of 1 due to specialty name changes between 2016 and 2017; disregard these specialties in calculating your answer.**"
   ]
  },
  {
   "cell_type": "code",
   "execution_count": 20,
   "metadata": {},
   "outputs": [],
   "source": [
    "data_2016['2016_specialty'] = data_2016['specialty_description'].values\n",
    "data_2017['2017_specialty'] = data_2017['specialty_description'].values\n",
    "\n",
    "merged_data = data_2016.merge(data_2017, on='npi')"
   ]
  },
  {
   "cell_type": "code",
   "execution_count": 21,
   "metadata": {},
   "outputs": [],
   "source": [
    "specialties_2016, counts_2016 = np.unique(merged_data['2016_specialty'].values, return_counts=True)\n",
    "popular_specialties = specialties_2016[counts_2016 > 1000]"
   ]
  },
  {
   "cell_type": "code",
   "execution_count": 22,
   "metadata": {},
   "outputs": [],
   "source": [
    "fractions = []\n",
    "for specialty in popular_specialties:\n",
    "    \n",
    "    specialty_df = merged_data[merged_data['2016_specialty'].values == specialty].copy()\n",
    "    \n",
    "    fractions.append(np.sum((specialty_df['2017_specialty'].values != specialty)) / specialty_df.shape[0])"
   ]
  },
  {
   "cell_type": "code",
   "execution_count": 23,
   "metadata": {},
   "outputs": [
    {
     "name": "stdout",
     "output_type": "stream",
     "text": [
      "0.29020886577950117\n"
     ]
    }
   ],
   "source": [
    "# Disregard cases where fraction == 1.0\n",
    "fractions = [x for x in fractions if x != 1.0]\n",
    "print(np.max(fractions))"
   ]
  },
  {
   "cell_type": "code",
   "execution_count": null,
   "metadata": {},
   "outputs": [],
   "source": []
  }
 ],
 "metadata": {
  "kernelspec": {
   "display_name": "Python 3",
   "language": "python",
   "name": "python3"
  },
  "language_info": {
   "codemirror_mode": {
    "name": "ipython",
    "version": 3
   },
   "file_extension": ".py",
   "mimetype": "text/x-python",
   "name": "python",
   "nbconvert_exporter": "python",
   "pygments_lexer": "ipython3",
   "version": "3.7.1"
  }
 },
 "nbformat": 4,
 "nbformat_minor": 2
}
