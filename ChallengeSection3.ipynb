{
 "cells": [
  {
   "cell_type": "code",
   "execution_count": 1,
   "metadata": {},
   "outputs": [],
   "source": [
    "import numpy as np\n",
    "import random"
   ]
  },
  {
   "cell_type": "code",
   "execution_count": 2,
   "metadata": {},
   "outputs": [],
   "source": [
    "def possible_coin_values(N):\n",
    "    \"\"\"\n",
    "    Generate a list of all possible coin values to draw from\n",
    "    \n",
    "    :param N: (positive int) number of coins to draw\n",
    "    :return: coin_values: (list) numbers from 1 to N, inclusive\n",
    "    \"\"\"\n",
    "        \n",
    "    return list(np.arange(N) + 1)\n",
    "\n",
    "def draw_coins(coin_values):\n",
    "    \"\"\"\n",
    "    Drawing all coins without replacement is equivalent to \n",
    "    shuffling the list. This function shuffles the list.\n",
    "    \n",
    "    :param: coin_values: output of possible_coin_values\n",
    "    :return: drawn_coins: coin values in the order they were drawn\n",
    "    \"\"\"\n",
    "    random.shuffle(coin_values)\n",
    "    \n",
    "    return coin_values\n",
    "\n",
    "def calculate_payment(drawn_coins):\n",
    "    \"\"\"\n",
    "    Calculate the total payment for drawn coins\n",
    "    \n",
    "    :param drawn_coins: output of draw_coins\n",
    "    :return: payment: a single realization of drawing from coin_values\n",
    "    \"\"\"   \n",
    "    return np.sum([drawn_coins[0]] + [np.abs(drawn_coins[i + 1] - drawn_coins[i]) for i in range(len(drawn_coins) -1)])\n",
    "\n",
    "def perform_realization(N):\n",
    "    \"\"\"\n",
    "    Draw N coins and calculate the payment\n",
    "    \n",
    "    :param N: (positive int) number of coins to draw\n",
    "    :return: payment: calculated payment\n",
    "    \"\"\"\n",
    "    if type(N) != int or N <= 0:\n",
    "        raise  Exception(\"argument must be positive integer\")\n",
    "        \n",
    "    coin_values = possible_coin_values(N)\n",
    "    drawn_coins = draw_coins(coin_values)\n",
    "    return calculate_payment(drawn_coins)"
   ]
  },
  {
   "cell_type": "code",
   "execution_count": 3,
   "metadata": {},
   "outputs": [],
   "source": [
    "# N = 10 payments\n",
    "size = 1000000\n",
    "n10_payments = [perform_realization(10) for _ in range(size)]"
   ]
  },
  {
   "cell_type": "code",
   "execution_count": 4,
   "metadata": {},
   "outputs": [
    {
     "name": "stdout",
     "output_type": "stream",
     "text": [
      "38.508639\n",
      "6.366899980970251\n"
     ]
    }
   ],
   "source": [
    "print(np.mean(n10_payments))\n",
    "print(np.std(n10_payments))"
   ]
  },
  {
   "cell_type": "code",
   "execution_count": 5,
   "metadata": {},
   "outputs": [],
   "source": [
    "# N = 20 payments\n",
    "size = 1000000\n",
    "n20_payments = [perform_realization(20) for _ in range(size)]"
   ]
  },
  {
   "cell_type": "code",
   "execution_count": 6,
   "metadata": {},
   "outputs": [
    {
     "name": "stdout",
     "output_type": "stream",
     "text": [
      "143.503598\n",
      "18.445192139264798\n"
     ]
    }
   ],
   "source": [
    "print(np.mean(n20_payments))\n",
    "print(np.std(n20_payments))"
   ]
  },
  {
   "cell_type": "code",
   "execution_count": 7,
   "metadata": {},
   "outputs": [],
   "source": [
    "n10_array = np.array(n10_payments)\n",
    "n20_array = np.array(n20_payments)"
   ]
  },
  {
   "cell_type": "code",
   "execution_count": 8,
   "metadata": {},
   "outputs": [
    {
     "name": "stdout",
     "output_type": "stream",
     "text": [
      "0.141113\n"
     ]
    }
   ],
   "source": [
    "print(np.sum((n10_array > 45.0)) / len(n10_array))"
   ]
  },
  {
   "cell_type": "code",
   "execution_count": 9,
   "metadata": {},
   "outputs": [
    {
     "name": "stdout",
     "output_type": "stream",
     "text": [
      "0.183052\n"
     ]
    }
   ],
   "source": [
    "print(np.sum((n20_array > 160.0)) / len(n20_array))"
   ]
  },
  {
   "cell_type": "code",
   "execution_count": null,
   "metadata": {},
   "outputs": [],
   "source": []
  }
 ],
 "metadata": {
  "kernelspec": {
   "display_name": "Python 3",
   "language": "python",
   "name": "python3"
  },
  "language_info": {
   "codemirror_mode": {
    "name": "ipython",
    "version": 3
   },
   "file_extension": ".py",
   "mimetype": "text/x-python",
   "name": "python",
   "nbconvert_exporter": "python",
   "pygments_lexer": "ipython3",
   "version": "3.7.1"
  }
 },
 "nbformat": 4,
 "nbformat_minor": 2
}
